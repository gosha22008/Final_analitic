{
  "nbformat": 4,
  "nbformat_minor": 0,
  "metadata": {
    "colab": {
      "provenance": [],
      "collapsed_sections": [
        "yxQQuciwNQbL"
      ],
      "toc_visible": true
    },
    "kernelspec": {
      "name": "python3",
      "display_name": "Python 3"
    },
    "language_info": {
      "name": "python"
    }
  },
  "cells": [
    {
      "cell_type": "code",
      "execution_count": null,
      "metadata": {
        "colab": {
          "base_uri": "https://localhost:8080/",
          "height": 424
        },
        "id": "cl-nApDP4ZFi",
        "outputId": "6038b93e-b743-4e10-97dd-61ce5f5b5203"
      },
      "outputs": [
        {
          "output_type": "execute_result",
          "data": {
            "text/plain": [
              "      order_gk  weekday_key   hour_key  distance_km offer_class_group  \\\n",
              "0          412            7  22.967881    53.113626           Premium   \n",
              "1          436            3  19.439948     5.781342          Delivery   \n",
              "2         1327            6  19.816643    16.200071          Delivery   \n",
              "3         2013            2  19.123837    13.731643          Delivery   \n",
              "4         2241            6  23.164958    20.436380           Premium   \n",
              "...        ...          ...        ...          ...               ...   \n",
              "1995    918581            5  21.704595     8.590702          Delivery   \n",
              "1996    918656            7  27.587379    30.834933           Comfort   \n",
              "1997    918683            4  16.827856    20.365287          Delivery   \n",
              "1998    918737            2  18.979144    14.959835           Economy   \n",
              "1999    919196            4  22.802303    68.558736           Economy   \n",
              "\n",
              "      driver_response  \n",
              "0                   1  \n",
              "1                   1  \n",
              "2                   0  \n",
              "3                   0  \n",
              "4                   1  \n",
              "...               ...  \n",
              "1995                1  \n",
              "1996                1  \n",
              "1997                0  \n",
              "1998                0  \n",
              "1999                0  \n",
              "\n",
              "[2000 rows x 6 columns]"
            ],
            "text/html": [
              "\n",
              "  <div id=\"df-a8637b2d-a89c-408c-a5ea-35aed77cd29b\">\n",
              "    <div class=\"colab-df-container\">\n",
              "      <div>\n",
              "<style scoped>\n",
              "    .dataframe tbody tr th:only-of-type {\n",
              "        vertical-align: middle;\n",
              "    }\n",
              "\n",
              "    .dataframe tbody tr th {\n",
              "        vertical-align: top;\n",
              "    }\n",
              "\n",
              "    .dataframe thead th {\n",
              "        text-align: right;\n",
              "    }\n",
              "</style>\n",
              "<table border=\"1\" class=\"dataframe\">\n",
              "  <thead>\n",
              "    <tr style=\"text-align: right;\">\n",
              "      <th></th>\n",
              "      <th>order_gk</th>\n",
              "      <th>weekday_key</th>\n",
              "      <th>hour_key</th>\n",
              "      <th>distance_km</th>\n",
              "      <th>offer_class_group</th>\n",
              "      <th>driver_response</th>\n",
              "    </tr>\n",
              "  </thead>\n",
              "  <tbody>\n",
              "    <tr>\n",
              "      <th>0</th>\n",
              "      <td>412</td>\n",
              "      <td>7</td>\n",
              "      <td>22.967881</td>\n",
              "      <td>53.113626</td>\n",
              "      <td>Premium</td>\n",
              "      <td>1</td>\n",
              "    </tr>\n",
              "    <tr>\n",
              "      <th>1</th>\n",
              "      <td>436</td>\n",
              "      <td>3</td>\n",
              "      <td>19.439948</td>\n",
              "      <td>5.781342</td>\n",
              "      <td>Delivery</td>\n",
              "      <td>1</td>\n",
              "    </tr>\n",
              "    <tr>\n",
              "      <th>2</th>\n",
              "      <td>1327</td>\n",
              "      <td>6</td>\n",
              "      <td>19.816643</td>\n",
              "      <td>16.200071</td>\n",
              "      <td>Delivery</td>\n",
              "      <td>0</td>\n",
              "    </tr>\n",
              "    <tr>\n",
              "      <th>3</th>\n",
              "      <td>2013</td>\n",
              "      <td>2</td>\n",
              "      <td>19.123837</td>\n",
              "      <td>13.731643</td>\n",
              "      <td>Delivery</td>\n",
              "      <td>0</td>\n",
              "    </tr>\n",
              "    <tr>\n",
              "      <th>4</th>\n",
              "      <td>2241</td>\n",
              "      <td>6</td>\n",
              "      <td>23.164958</td>\n",
              "      <td>20.436380</td>\n",
              "      <td>Premium</td>\n",
              "      <td>1</td>\n",
              "    </tr>\n",
              "    <tr>\n",
              "      <th>...</th>\n",
              "      <td>...</td>\n",
              "      <td>...</td>\n",
              "      <td>...</td>\n",
              "      <td>...</td>\n",
              "      <td>...</td>\n",
              "      <td>...</td>\n",
              "    </tr>\n",
              "    <tr>\n",
              "      <th>1995</th>\n",
              "      <td>918581</td>\n",
              "      <td>5</td>\n",
              "      <td>21.704595</td>\n",
              "      <td>8.590702</td>\n",
              "      <td>Delivery</td>\n",
              "      <td>1</td>\n",
              "    </tr>\n",
              "    <tr>\n",
              "      <th>1996</th>\n",
              "      <td>918656</td>\n",
              "      <td>7</td>\n",
              "      <td>27.587379</td>\n",
              "      <td>30.834933</td>\n",
              "      <td>Comfort</td>\n",
              "      <td>1</td>\n",
              "    </tr>\n",
              "    <tr>\n",
              "      <th>1997</th>\n",
              "      <td>918683</td>\n",
              "      <td>4</td>\n",
              "      <td>16.827856</td>\n",
              "      <td>20.365287</td>\n",
              "      <td>Delivery</td>\n",
              "      <td>0</td>\n",
              "    </tr>\n",
              "    <tr>\n",
              "      <th>1998</th>\n",
              "      <td>918737</td>\n",
              "      <td>2</td>\n",
              "      <td>18.979144</td>\n",
              "      <td>14.959835</td>\n",
              "      <td>Economy</td>\n",
              "      <td>0</td>\n",
              "    </tr>\n",
              "    <tr>\n",
              "      <th>1999</th>\n",
              "      <td>919196</td>\n",
              "      <td>4</td>\n",
              "      <td>22.802303</td>\n",
              "      <td>68.558736</td>\n",
              "      <td>Economy</td>\n",
              "      <td>0</td>\n",
              "    </tr>\n",
              "  </tbody>\n",
              "</table>\n",
              "<p>2000 rows × 6 columns</p>\n",
              "</div>\n",
              "      <button class=\"colab-df-convert\" onclick=\"convertToInteractive('df-a8637b2d-a89c-408c-a5ea-35aed77cd29b')\"\n",
              "              title=\"Convert this dataframe to an interactive table.\"\n",
              "              style=\"display:none;\">\n",
              "        \n",
              "  <svg xmlns=\"http://www.w3.org/2000/svg\" height=\"24px\"viewBox=\"0 0 24 24\"\n",
              "       width=\"24px\">\n",
              "    <path d=\"M0 0h24v24H0V0z\" fill=\"none\"/>\n",
              "    <path d=\"M18.56 5.44l.94 2.06.94-2.06 2.06-.94-2.06-.94-.94-2.06-.94 2.06-2.06.94zm-11 1L8.5 8.5l.94-2.06 2.06-.94-2.06-.94L8.5 2.5l-.94 2.06-2.06.94zm10 10l.94 2.06.94-2.06 2.06-.94-2.06-.94-.94-2.06-.94 2.06-2.06.94z\"/><path d=\"M17.41 7.96l-1.37-1.37c-.4-.4-.92-.59-1.43-.59-.52 0-1.04.2-1.43.59L10.3 9.45l-7.72 7.72c-.78.78-.78 2.05 0 2.83L4 21.41c.39.39.9.59 1.41.59.51 0 1.02-.2 1.41-.59l7.78-7.78 2.81-2.81c.8-.78.8-2.07 0-2.86zM5.41 20L4 18.59l7.72-7.72 1.47 1.35L5.41 20z\"/>\n",
              "  </svg>\n",
              "      </button>\n",
              "      \n",
              "  <style>\n",
              "    .colab-df-container {\n",
              "      display:flex;\n",
              "      flex-wrap:wrap;\n",
              "      gap: 12px;\n",
              "    }\n",
              "\n",
              "    .colab-df-convert {\n",
              "      background-color: #E8F0FE;\n",
              "      border: none;\n",
              "      border-radius: 50%;\n",
              "      cursor: pointer;\n",
              "      display: none;\n",
              "      fill: #1967D2;\n",
              "      height: 32px;\n",
              "      padding: 0 0 0 0;\n",
              "      width: 32px;\n",
              "    }\n",
              "\n",
              "    .colab-df-convert:hover {\n",
              "      background-color: #E2EBFA;\n",
              "      box-shadow: 0px 1px 2px rgba(60, 64, 67, 0.3), 0px 1px 3px 1px rgba(60, 64, 67, 0.15);\n",
              "      fill: #174EA6;\n",
              "    }\n",
              "\n",
              "    [theme=dark] .colab-df-convert {\n",
              "      background-color: #3B4455;\n",
              "      fill: #D2E3FC;\n",
              "    }\n",
              "\n",
              "    [theme=dark] .colab-df-convert:hover {\n",
              "      background-color: #434B5C;\n",
              "      box-shadow: 0px 1px 3px 1px rgba(0, 0, 0, 0.15);\n",
              "      filter: drop-shadow(0px 1px 2px rgba(0, 0, 0, 0.3));\n",
              "      fill: #FFFFFF;\n",
              "    }\n",
              "  </style>\n",
              "\n",
              "      <script>\n",
              "        const buttonEl =\n",
              "          document.querySelector('#df-a8637b2d-a89c-408c-a5ea-35aed77cd29b button.colab-df-convert');\n",
              "        buttonEl.style.display =\n",
              "          google.colab.kernel.accessAllowed ? 'block' : 'none';\n",
              "\n",
              "        async function convertToInteractive(key) {\n",
              "          const element = document.querySelector('#df-a8637b2d-a89c-408c-a5ea-35aed77cd29b');\n",
              "          const dataTable =\n",
              "            await google.colab.kernel.invokeFunction('convertToInteractive',\n",
              "                                                     [key], {});\n",
              "          if (!dataTable) return;\n",
              "\n",
              "          const docLinkHtml = 'Like what you see? Visit the ' +\n",
              "            '<a target=\"_blank\" href=https://colab.research.google.com/notebooks/data_table.ipynb>data table notebook</a>'\n",
              "            + ' to learn more about interactive tables.';\n",
              "          element.innerHTML = '';\n",
              "          dataTable['output_type'] = 'display_data';\n",
              "          await google.colab.output.renderOutput(dataTable, element);\n",
              "          const docLink = document.createElement('div');\n",
              "          docLink.innerHTML = docLinkHtml;\n",
              "          element.appendChild(docLink);\n",
              "        }\n",
              "      </script>\n",
              "    </div>\n",
              "  </div>\n",
              "  "
            ]
          },
          "metadata": {},
          "execution_count": 24
        }
      ],
      "source": [
        "import pandas as pd\n",
        "import seaborn as sns\n",
        "import matplotlib.pyplot as plt\n",
        "\n",
        "df = pd.read_excel('/content/FPS_hw_x_df_x_taxi.xlsx')\n",
        "df"
      ]
    },
    {
      "cell_type": "markdown",
      "source": [
        "Описание датасета:\n",
        "Датасет содержит информацию о поездках на такси одного из известных агрегаторов.\n",
        "\n",
        "order_gk – Идентификатор поездки\n",
        "\n",
        "weekday_key – День недели совершения поездки\n",
        "\n",
        "hour_key – Час совершения поездки\n",
        "\n",
        "distance_km – Дистанция поездки\n",
        "\n",
        "offer_class_group – Класс поездки (Economy; Comfort; Premium; Delivery)\n",
        "\n",
        "driver_response – Статус поездки (1 – поездка совершена; 0 – отмена)"
      ],
      "metadata": {
        "id": "03ahIgyz5Cr4"
      }
    },
    {
      "cell_type": "code",
      "source": [
        "# Разделяем данные на Econom и Comfort\n",
        "df_economy = df[df['offer_class_group'] == 'Economy']\n",
        "df_comfort = df[df['offer_class_group'] == 'Comfort']"
      ],
      "metadata": {
        "id": "gpkwkEvu5Dhe"
      },
      "execution_count": null,
      "outputs": []
    },
    {
      "cell_type": "code",
      "source": [
        "# График плоности распределения дистанций поездок для Economy\n",
        "df_economy['distance_km'].hist(bins=50)"
      ],
      "metadata": {
        "colab": {
          "base_uri": "https://localhost:8080/",
          "height": 282
        },
        "id": "U4Y29K5x6X_b",
        "outputId": "8cd6f590-73e2-4606-e893-fbd37af92c31"
      },
      "execution_count": null,
      "outputs": [
        {
          "output_type": "execute_result",
          "data": {
            "text/plain": [
              "<matplotlib.axes._subplots.AxesSubplot at 0x7f9cb8954e10>"
            ]
          },
          "metadata": {},
          "execution_count": 26
        },
        {
          "output_type": "display_data",
          "data": {
            "text/plain": [
              "<Figure size 432x288 with 1 Axes>"
            ],
            "image/png": "[encoded data removed]"
          },
          "metadata": {
            "needs_background": "light"
          }
        }
      ]
    },
    {
      "cell_type": "code",
      "source": [
        "# График плоности распределения дистанций поездок для Comfort\n",
        "df_comfort['distance_km'].hist(bins=50)"
      ],
      "metadata": {
        "colab": {
          "base_uri": "https://localhost:8080/",
          "height": 282
        },
        "id": "-m2s2Sak6s5A",
        "outputId": "608ae94e-91de-490e-d6f8-733b0f50a3e1"
      },
      "execution_count": null,
      "outputs": [
        {
          "output_type": "execute_result",
          "data": {
            "text/plain": [
              "<matplotlib.axes._subplots.AxesSubplot at 0x7f9cb891bc90>"
            ]
          },
          "metadata": {},
          "execution_count": 27
        },
        {
          "output_type": "display_data",
          "data": {
            "text/plain": [
              "<Figure size 432x288 with 1 Axes>"
            ],
            "image/png": "[encoded data removed]"
          },
          "metadata": {
            "needs_background": "light"
          }
        }
      ]
    },
    {
      "cell_type": "code",
      "source": [
        "sns.distplot(df_economy['distance_km'], 50)\n",
        "sns.distplot(df_comfort['distance_km'], 50)\n",
        "plt.title('График плоности распределения дистанций поездок для Comfort и Economy')\n",
        "plt.legend(['Economy', 'Comfort'])\n"
      ],
      "metadata": {
        "colab": {
          "base_uri": "https://localhost:8080/",
          "height": 403
        },
        "id": "5gRys-lN7A0F",
        "outputId": "cfc31924-cf9d-4b2c-87a3-c39aa0db8083"
      },
      "execution_count": null,
      "outputs": [
        {
          "output_type": "stream",
          "name": "stderr",
          "text": [
            "/usr/local/lib/python3.7/dist-packages/seaborn/distributions.py:2619: FutureWarning: `distplot` is a deprecated function and will be removed in a future version. Please adapt your code to use either `displot` (a figure-level function with similar flexibility) or `histplot` (an axes-level function for histograms).\n",
            "  warnings.warn(msg, FutureWarning)\n",
            "/usr/local/lib/python3.7/dist-packages/seaborn/distributions.py:2619: FutureWarning: `distplot` is a deprecated function and will be removed in a future version. Please adapt your code to use either `displot` (a figure-level function with similar flexibility) or `histplot` (an axes-level function for histograms).\n",
            "  warnings.warn(msg, FutureWarning)\n"
          ]
        },
        {
          "output_type": "execute_result",
          "data": {
            "text/plain": [
              "<matplotlib.legend.Legend at 0x7f9cb87c08d0>"
            ]
          },
          "metadata": {},
          "execution_count": 28
        },
        {
          "output_type": "display_data",
          "data": {
            "text/plain": [
              "<Figure size 432x288 with 1 Axes>"
            ],
            "image/png": "[encoded data removed]"
          },
          "metadata": {
            "needs_background": "light"
          }
        }
      ]
    },
    {
      "cell_type": "code",
      "source": [
        "from scipy.stats import ttest_ind\n",
        "alpha = 0.05"
      ],
      "metadata": {
        "id": "iw1ugz0LCb_B"
      },
      "execution_count": null,
      "outputs": []
    },
    {
      "cell_type": "markdown",
      "source": [
        "Проверяем гипотезу: “На дальние поездки, пользователи предпочитают Economy-классу более комфортные условия поездки – Comfort-класс”."
      ],
      "metadata": {
        "id": "uljXsVK1GDpS"
      }
    },
    {
      "cell_type": "markdown",
      "source": [
        "H1 - \"На дальние поездки, пользователи предпочитают Economy и Comfort классы НЕ одинаково \"\n",
        "\n",
        "Mcomfort != Meconomy"
      ],
      "metadata": {
        "id": "xnJCTqy-e3EU"
      }
    },
    {
      "cell_type": "markdown",
      "source": [
        "H0 - “На дальние поездки, пользователи предпочитают Economy и Comfort классы одинаково”.\n",
        "\n",
        "Mcomfort = Meconomy"
      ],
      "metadata": {
        "id": "NuWOSpxcRTY5"
      }
    },
    {
      "cell_type": "code",
      "source": [
        "result = ttest_ind(df_economy['distance_km'], df_comfort['distance_km'])\n",
        "print(result.pvalue)\n",
        "print(result)\n",
        "\n",
        "\n",
        "if (result.pvalue < alpha):\n",
        "  print(f'Отвергаем нулевую гипотезу, {result.pvalue} < {alpha}')\n",
        "else:\n",
        "  print(f'Не отвергаем нулевую гипотезу, {result.pvalue} >= {alpha}')\n"
      ],
      "metadata": {
        "colab": {
          "base_uri": "https://localhost:8080/"
        },
        "id": "Z3A4KTbJM7c5",
        "outputId": "fbde597d-12f9-488f-dc46-2a2fa2c70beb"
      },
      "execution_count": null,
      "outputs": [
        {
          "output_type": "stream",
          "name": "stdout",
          "text": [
            "0.0015675100297112708\n",
            "Ttest_indResult(statistic=-3.1706184453513386, pvalue=0.0015675100297112708)\n",
            "Отвергаем нулевую гипотезу, 0.0015675100297112708 < 0.05\n"
          ]
        }
      ]
    },
    {
      "cell_type": "markdown",
      "source": [
        "# А что если так ..."
      ],
      "metadata": {
        "id": "yxQQuciwNQbL"
      }
    },
    {
      "cell_type": "markdown",
      "source": [
        "Я предполагаю что нужно бы разбить наши датафреймы по дальним дистанциям...\n",
        "Я буду считать дальней поездкой поездку больше чем на 30 км например ..."
      ],
      "metadata": {
        "id": "qXtKTnQnItg2"
      }
    },
    {
      "cell_type": "code",
      "source": [
        "df_ec_long = df_economy[df_economy['distance_km'] > 30]\n",
        "df_co_long = df_comfort[df_comfort['distance_km'] > 30]\n",
        "sns.distplot(df_ec_long['distance_km'], 75)\n",
        "sns.distplot(df_co_long['distance_km'], 75)\n",
        "plt.title('График плоности распределения дистанций поездок для Comfort и Economy на дистанцию > 30 км')\n",
        "plt.legend(['Economy', 'Comfort'])"
      ],
      "metadata": {
        "colab": {
          "base_uri": "https://localhost:8080/"
        },
        "id": "SKsKjRzrF-rX",
        "outputId": "fb7f20fb-bc05-4dd6-86b3-763b065ec19b"
      },
      "execution_count": null,
      "outputs": [
        {
          "output_type": "stream",
          "name": "stderr",
          "text": [
            "/usr/local/lib/python3.7/dist-packages/seaborn/distributions.py:2619: FutureWarning: `distplot` is a deprecated function and will be removed in a future version. Please adapt your code to use either `displot` (a figure-level function with similar flexibility) or `histplot` (an axes-level function for histograms).\n",
            "  warnings.warn(msg, FutureWarning)\n",
            "/usr/local/lib/python3.7/dist-packages/seaborn/distributions.py:2619: FutureWarning: `distplot` is a deprecated function and will be removed in a future version. Please adapt your code to use either `displot` (a figure-level function with similar flexibility) or `histplot` (an axes-level function for histograms).\n",
            "  warnings.warn(msg, FutureWarning)\n"
          ]
        },
        {
          "output_type": "execute_result",
          "data": {
            "text/plain": [
              "<matplotlib.legend.Legend at 0x7f9cb88a6fd0>"
            ]
          },
          "metadata": {},
          "execution_count": 31
        },
        {
          "output_type": "display_data",
          "data": {
            "text/plain": [
              "<Figure size 432x288 with 1 Axes>"
            ],
            "image/png": "[encoded data removed]"
          },
          "metadata": {
            "needs_background": "light"
          }
        }
      ]
    },
    {
      "cell_type": "markdown",
      "source": [
        "H0 - “На дальние поездки, пользователи предпочитают Economy и Comfort классы одинаково”."
      ],
      "metadata": {
        "id": "5NvS2nnQTgxA"
      }
    },
    {
      "cell_type": "code",
      "source": [
        "result = ttest_ind(df_ec_long['distance_km'], df_co_long['distance_km'])\n",
        "print(result.pvalue)\n",
        "\n",
        "if (result.pvalue < alpha):\n",
        "  print('Отвергаем нулевую гипотезу')\n",
        "else:\n",
        "  print('Не отвергаем нулевую гипотезу')\n"
      ],
      "metadata": {
        "colab": {
          "base_uri": "https://localhost:8080/"
        },
        "id": "IySlEzEgL3G1",
        "outputId": "a8aebe63-2510-44a7-f648-d36c130d5bbc"
      },
      "execution_count": null,
      "outputs": [
        {
          "output_type": "stream",
          "name": "stdout",
          "text": [
            "0.13217153071988325\n",
            "Не отвергаем нулевую гипотезу\n"
          ]
        }
      ]
    }
  ]
}